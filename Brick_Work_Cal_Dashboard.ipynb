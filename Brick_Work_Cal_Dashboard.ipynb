{
 "cells": [
  {
   "cell_type": "code",
   "execution_count": 1,
   "metadata": {},
   "outputs": [],
   "source": [
    "from ipywidgets.widgets import FloatSlider,IntSlider,Layout,HBox,VBox\n",
    "from IPython.display import display\n",
    "import ipywidgets as widgets"
   ]
  },
  {
   "cell_type": "code",
   "execution_count": 2,
   "metadata": {},
   "outputs": [],
   "source": [
    "title_01 = widgets.HTML(value='<p><font face=\"courier\" size=\"+2.5\" color=\"blue\"><b><center>BRICK WORK ON CEMENT SAND MORTAR DETAILS<br><u>CALCULATION DASHBOARD</center></u></b></p>')\n",
    "text_01 = widgets.HTML(value='<p><font face=\"arial\" size=\"2\" color=\"green\">STEP 1 :<b><i>SELECT STANDARD SET OF STANDARD DIMENSIONS:</i></b></font></p>',description=' ')\n",
    "text_02 = widgets.HTML(value='<p><font face=\"arial\" size=\"2\" color=\"green\">STEP 2 :<b><i>DETERMINE QUANTITY OF WORK:</i></b></font></p>',description=' ')\n",
    "text_03 = widgets.HTML(value='<p><font face=\"arial\" size=\"2\" color=\"green\">STEP 3 :<b><i></i></b></font></p>',description=' ')\n",
    "text_04 = widgets.HTML(value='<p><font face=\"arial\" size=\"2\" color=\"green\">STEP 4 :<b><i>SELECT WASTAGE FOR BRICKS:</i></b></font></p>',description=' ')\n",
    "text_05 = widgets.HTML(value='<p><font face=\"arial\" size=\"2\" color=\"green\">STEP 5 :<b><i>SELECT WASTAGE FOR CEMENT SAND MORTAR:</i></b></font></p>',description=' ')\n",
    "text_06 = widgets.HTML(value='<p><font face=\"arial\" size=\"2\" color=\"green\">STEP 6 :<b><i>SELECT CEMENT SAND MORTAR RATIO :</i></b></font></p>',description=' ')\n",
    "text_07 = widgets.HTML(value='<p><font face=\"arial\" size=\"2\" color=\"green\">STEP 7 :<b><i>SELECT SUITABLE WATER CEMENT RATIO:</i></b></font></p>',description=' ')\n",
    "text_08 = widgets.HTML(value='<p><font face=\"arial\" size=\"3.5\" color=\"purple\"><b><u>FINAL OUTPUT :</u></b></font></p>',description=' ')\n"
   ]
  },
  {
   "cell_type": "code",
   "execution_count": 3,
   "metadata": {},
   "outputs": [
    {
     "data": {
      "application/vnd.jupyter.widget-view+json": {
       "model_id": "efe06b4354b94073ade7b8f158eabedb",
       "version_major": 2,
       "version_minor": 0
      },
      "text/plain": [
       "HTML(value='<p><font face=\"courier\" size=\"+2.5\" color=\"blue\"><b><center>BRICK WORK ON CEMENT SAND MORTAR DETAI…"
      ]
     },
     "metadata": {},
     "output_type": "display_data"
    }
   ],
   "source": [
    "title_01"
   ]
  },
  {
   "cell_type": "code",
   "execution_count": 4,
   "metadata": {},
   "outputs": [],
   "source": [
    "style ={'description_width':'initial'}\n",
    "a = widgets.Dropdown( layout=Layout(width='280px'),style=style,value = 'NS',options=['NS','IS','Others'],description='Standard Dimension')\n",
    "x = widgets.IntSlider(min=100, max=250, value=240, description='L in mm',orientation='vertical')\n",
    "y = widgets.IntSlider(min=80, max=250, value=115, description='B in mm',orientation='vertical')\n",
    "z = widgets.IntSlider(min=40, max=250, value=57, description='Thk in mm',orientation='vertical')\n",
    "w = widgets.FloatSlider(min = 1,max= 3,step = 1,value = 1,description = 'Work(cum)')\n",
    "W1 = widgets.IntSlider(layout=Layout(width='400px'),min = 1,max = 100,step = 5,value = 5,description ='Wastage(%)')\n",
    "W2 = widgets.IntSlider(layout=Layout(width='400px'),style=style,min = 1,max = 100,step = 1,value = 33,description ='Mortar Wastage(%)')\n",
    "CSR = widgets.IntSlider(layout=Layout(width='400px'),style=style,min = 1,max = 6,step = 1,value = 3,description ='Cement:Sand = 1 :')\n",
    "W_C = widgets.FloatSlider(layout=Layout(width='400px'),min =0.4,max =0.8,step = 0.1,value = 0.5,description ='w/c')"
   ]
  },
  {
   "cell_type": "code",
   "execution_count": 5,
   "metadata": {},
   "outputs": [],
   "source": [
    "def handle_slider_change(change):\n",
    "    if change.new == 'IS':\n",
    "        x.value = 190\n",
    "        y.value = 90\n",
    "        z.value = 90\n",
    "    elif change.new == 'NS':\n",
    "        x.value = 240\n",
    "        y.value = 115\n",
    "        z.value = 57\n",
    "    else:\n",
    "        x.value = 200\n",
    "        y.value = 100\n",
    "        z.value = 100\n",
    "\n",
    "\n",
    "a.observe(handle_slider_change, names='value')"
   ]
  },
  {
   "cell_type": "code",
   "execution_count": 6,
   "metadata": {},
   "outputs": [],
   "source": [
    "def f(a,w,x,y,z,W1,W2,CSR,W_C):\n",
    "    volume_without_mortar = (x*y*z)/1000000000\n",
    "    print('BRICK OF SIZE {} mm x {} mm x {} mm'.format(x,y,z))\n",
    "    print('---------------------------------------------')\n",
    "    print('SINGLE BRICK VOLUME:')\n",
    "    print('---------------------------------------------')\n",
    "    print('1.Without_mortar:{:0.4f} cum'.format(volume_without_mortar))\n",
    "    Single_brick_with_1cm_mortar = (((x+10)*(y+10)*(z+10))/(1000000000))\n",
    "    print('2.With_1cm_mortar:{:0.4f} cum'.format(Single_brick_with_1cm_mortar))\n",
    "    no_of_bricks = w/Single_brick_with_1cm_mortar\n",
    "    total_Q = (1+(W1/100))*no_of_bricks\n",
    "    print('----------------------------------------------')\n",
    "    print('BRICK QUANTITY = {}'.format(round(total_Q)))\n",
    "    print('----------------------------------------------')\n",
    "    # Calculation of mortar quantity\n",
    "    print('')\n",
    "    print('FOR CEMENT SAND MORTAR :')\n",
    "    print('-----------------------------------')\n",
    "    Wet_vol = w - no_of_bricks*volume_without_mortar\n",
    "    Dry_vol = (1+(W2/100))*Wet_vol                           \n",
    "    Cement = (1/(1+CSR))*Dry_vol*(1440/50)                   ## 1 bag of cement = 50 kg\n",
    "    Sand = (CSR/(1+CSR))*Dry_vol*35.375\n",
    "    Water = W_C*Cement*50\n",
    "    print('WET VOLUME = {:6.3f} cum'.format(Wet_vol))\n",
    "    print('DRY VOLUME = {:6.3f} cum'.format(Dry_vol))\n",
    "    print('CEMENT QUANTITY = {:5.3} Bags'.format(Cement))\n",
    "    print('SAND QUANTITY = {:6.3f} cft'.format(Sand))\n",
    "    print('WATER  = {:6.3f} Liters'.format(Water))\n",
    "    print('-----------------------------------')\n",
    "    \n",
    "out=widgets.interactive_output(f,{'a': a,'w': w ,'x' : x,'y' : y,'z' : z,'W1': W1,'W2': W2,'CSR' : CSR,'W_C': W_C});\n",
    "\n",
    "\n",
    "box_layout =  Layout(flex='flex-shrink',flex_flow ='direction',justify_content='space-between',align_item='center')"
   ]
  },
  {
   "cell_type": "code",
   "execution_count": 7,
   "metadata": {},
   "outputs": [],
   "source": [
    "combo_02 = widgets.HBox([text_03,x,y,z])\n",
    "combo_01= widgets.VBox([text_01,a,text_02,w,combo_02])\n",
    "combo_04 = widgets.VBox([text_06,CSR,text_07,W_C])\n",
    "combo_05 = widgets.VBox([text_04,W1,text_05,W2,combo_04])\n",
    "combo_06 = widgets.VBox([text_08,out])"
   ]
  },
  {
   "cell_type": "code",
   "execution_count": 8,
   "metadata": {},
   "outputs": [
    {
     "data": {
      "application/vnd.jupyter.widget-view+json": {
       "model_id": "b24a381b513d4fbdb36f091514d7d2a4",
       "version_major": 2,
       "version_minor": 0
      },
      "text/plain": [
       "HBox(children=(VBox(children=(HTML(value='<p><font face=\"arial\" size=\"2\" color=\"green\">STEP 1 :<b><i>SELECT ST…"
      ]
     },
     "metadata": {},
     "output_type": "display_data"
    }
   ],
   "source": [
    "widgets.HBox([combo_01,combo_05,combo_06],layout=box_layout)"
   ]
  },
  {
   "cell_type": "code",
   "execution_count": null,
   "metadata": {},
   "outputs": [],
   "source": []
  },
  {
   "cell_type": "code",
   "execution_count": null,
   "metadata": {},
   "outputs": [],
   "source": []
  },
  {
   "cell_type": "code",
   "execution_count": null,
   "metadata": {},
   "outputs": [],
   "source": []
  },
  {
   "cell_type": "code",
   "execution_count": null,
   "metadata": {},
   "outputs": [],
   "source": []
  },
  {
   "cell_type": "code",
   "execution_count": null,
   "metadata": {},
   "outputs": [],
   "source": []
  },
  {
   "cell_type": "code",
   "execution_count": null,
   "metadata": {},
   "outputs": [],
   "source": []
  }
 ],
 "metadata": {
  "kernelspec": {
   "display_name": "Python 3",
   "language": "python",
   "name": "python3"
  },
  "language_info": {
   "codemirror_mode": {
    "name": "ipython",
    "version": 3
   },
   "file_extension": ".py",
   "mimetype": "text/x-python",
   "name": "python",
   "nbconvert_exporter": "python",
   "pygments_lexer": "ipython3",
   "version": "3.8.5"
  }
 },
 "nbformat": 4,
 "nbformat_minor": 4
}
